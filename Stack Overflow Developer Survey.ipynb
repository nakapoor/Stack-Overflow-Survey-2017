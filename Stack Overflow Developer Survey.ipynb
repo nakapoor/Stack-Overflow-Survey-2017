{
 "cells": [
  {
   "cell_type": "markdown",
   "metadata": {},
   "source": [
    "## Business Understanding : \n",
    "\n",
    "In this project I am working on exploring the data from Udacity Stack Overflow Data - 2017 Survey results in order to answers the questions listed below.\n",
    "\n",
    "Question 1 : What is the Employment status of the participants and how are the job satisfaction and carrier satisfaction based on top 2 countries participated in survey ?<br/>\n",
    "Question 2: What are the most common languages, technologies, methodologies and tools used by professionals ?<br/>\n",
    "Question 3: Which programming language has the highest job satisfaction ?\n"
   ]
  },
  {
   "cell_type": "markdown",
   "metadata": {},
   "source": [
    "## Data Understanding"
   ]
  },
  {
   "cell_type": "code",
   "execution_count": 29,
   "metadata": {},
   "outputs": [],
   "source": [
    "import numpy as np\n",
    "import pandas as pd\n",
    "import matplotlib.pyplot as plt\n",
    "%matplotlib inline\n",
    "\n",
    "pd.set_option('display.max_columns', None)"
   ]
  },
  {
   "cell_type": "code",
   "execution_count": 30,
   "metadata": {},
   "outputs": [],
   "source": [
    "df = pd.read_csv('C:\\\\Users\\\\Naveen.Kapoor\\\\OneDrive - Shell\\\\Naveen Personal\\\\Stack Overflow Developer Survey\\\\survey_results_public.csv')"
   ]
  },
  {
   "cell_type": "code",
   "execution_count": 31,
   "metadata": {},
   "outputs": [
    {
     "data": {
      "text/html": [
       "<div>\n",
       "<style scoped>\n",
       "    .dataframe tbody tr th:only-of-type {\n",
       "        vertical-align: middle;\n",
       "    }\n",
       "\n",
       "    .dataframe tbody tr th {\n",
       "        vertical-align: top;\n",
       "    }\n",
       "\n",
       "    .dataframe thead th {\n",
       "        text-align: right;\n",
       "    }\n",
       "</style>\n",
       "<table border=\"1\" class=\"dataframe\">\n",
       "  <thead>\n",
       "    <tr style=\"text-align: right;\">\n",
       "      <th></th>\n",
       "      <th>Respondent</th>\n",
       "      <th>Professional</th>\n",
       "      <th>ProgramHobby</th>\n",
       "      <th>Country</th>\n",
       "      <th>University</th>\n",
       "      <th>EmploymentStatus</th>\n",
       "      <th>FormalEducation</th>\n",
       "      <th>MajorUndergrad</th>\n",
       "      <th>HomeRemote</th>\n",
       "      <th>CompanySize</th>\n",
       "      <th>CompanyType</th>\n",
       "      <th>YearsProgram</th>\n",
       "      <th>YearsCodedJob</th>\n",
       "      <th>YearsCodedJobPast</th>\n",
       "      <th>DeveloperType</th>\n",
       "      <th>WebDeveloperType</th>\n",
       "      <th>MobileDeveloperType</th>\n",
       "      <th>NonDeveloperType</th>\n",
       "      <th>CareerSatisfaction</th>\n",
       "      <th>JobSatisfaction</th>\n",
       "      <th>ExCoderReturn</th>\n",
       "      <th>ExCoderNotForMe</th>\n",
       "      <th>ExCoderBalance</th>\n",
       "      <th>ExCoder10Years</th>\n",
       "      <th>ExCoderBelonged</th>\n",
       "      <th>ExCoderSkills</th>\n",
       "      <th>ExCoderWillNotCode</th>\n",
       "      <th>ExCoderActive</th>\n",
       "      <th>PronounceGIF</th>\n",
       "      <th>ProblemSolving</th>\n",
       "      <th>BuildingThings</th>\n",
       "      <th>LearningNewTech</th>\n",
       "      <th>BoringDetails</th>\n",
       "      <th>JobSecurity</th>\n",
       "      <th>DiversityImportant</th>\n",
       "      <th>AnnoyingUI</th>\n",
       "      <th>FriendsDevelopers</th>\n",
       "      <th>RightWrongWay</th>\n",
       "      <th>UnderstandComputers</th>\n",
       "      <th>SeriousWork</th>\n",
       "      <th>InvestTimeTools</th>\n",
       "      <th>WorkPayCare</th>\n",
       "      <th>KinshipDevelopers</th>\n",
       "      <th>ChallengeMyself</th>\n",
       "      <th>CompetePeers</th>\n",
       "      <th>ChangeWorld</th>\n",
       "      <th>JobSeekingStatus</th>\n",
       "      <th>HoursPerWeek</th>\n",
       "      <th>LastNewJob</th>\n",
       "      <th>AssessJobIndustry</th>\n",
       "      <th>AssessJobRole</th>\n",
       "      <th>AssessJobExp</th>\n",
       "      <th>AssessJobDept</th>\n",
       "      <th>AssessJobTech</th>\n",
       "      <th>AssessJobProjects</th>\n",
       "      <th>AssessJobCompensation</th>\n",
       "      <th>AssessJobOffice</th>\n",
       "      <th>AssessJobCommute</th>\n",
       "      <th>AssessJobRemote</th>\n",
       "      <th>AssessJobLeaders</th>\n",
       "      <th>AssessJobProfDevel</th>\n",
       "      <th>AssessJobDiversity</th>\n",
       "      <th>AssessJobProduct</th>\n",
       "      <th>AssessJobFinances</th>\n",
       "      <th>ImportantBenefits</th>\n",
       "      <th>ClickyKeys</th>\n",
       "      <th>JobProfile</th>\n",
       "      <th>ResumePrompted</th>\n",
       "      <th>LearnedHiring</th>\n",
       "      <th>ImportantHiringAlgorithms</th>\n",
       "      <th>ImportantHiringTechExp</th>\n",
       "      <th>ImportantHiringCommunication</th>\n",
       "      <th>ImportantHiringOpenSource</th>\n",
       "      <th>ImportantHiringPMExp</th>\n",
       "      <th>ImportantHiringCompanies</th>\n",
       "      <th>ImportantHiringTitles</th>\n",
       "      <th>ImportantHiringEducation</th>\n",
       "      <th>ImportantHiringRep</th>\n",
       "      <th>ImportantHiringGettingThingsDone</th>\n",
       "      <th>Currency</th>\n",
       "      <th>Overpaid</th>\n",
       "      <th>TabsSpaces</th>\n",
       "      <th>EducationImportant</th>\n",
       "      <th>EducationTypes</th>\n",
       "      <th>SelfTaughtTypes</th>\n",
       "      <th>TimeAfterBootcamp</th>\n",
       "      <th>CousinEducation</th>\n",
       "      <th>WorkStart</th>\n",
       "      <th>HaveWorkedLanguage</th>\n",
       "      <th>WantWorkLanguage</th>\n",
       "      <th>HaveWorkedFramework</th>\n",
       "      <th>WantWorkFramework</th>\n",
       "      <th>HaveWorkedDatabase</th>\n",
       "      <th>WantWorkDatabase</th>\n",
       "      <th>HaveWorkedPlatform</th>\n",
       "      <th>WantWorkPlatform</th>\n",
       "      <th>IDE</th>\n",
       "      <th>AuditoryEnvironment</th>\n",
       "      <th>Methodology</th>\n",
       "      <th>VersionControl</th>\n",
       "      <th>CheckInCode</th>\n",
       "      <th>ShipIt</th>\n",
       "      <th>OtherPeoplesCode</th>\n",
       "      <th>ProjectManagement</th>\n",
       "      <th>EnjoyDebugging</th>\n",
       "      <th>InTheZone</th>\n",
       "      <th>DifficultCommunication</th>\n",
       "      <th>CollaborateRemote</th>\n",
       "      <th>MetricAssess</th>\n",
       "      <th>EquipmentSatisfiedMonitors</th>\n",
       "      <th>EquipmentSatisfiedCPU</th>\n",
       "      <th>EquipmentSatisfiedRAM</th>\n",
       "      <th>EquipmentSatisfiedStorage</th>\n",
       "      <th>EquipmentSatisfiedRW</th>\n",
       "      <th>InfluenceInternet</th>\n",
       "      <th>InfluenceWorkstation</th>\n",
       "      <th>InfluenceHardware</th>\n",
       "      <th>InfluenceServers</th>\n",
       "      <th>InfluenceTechStack</th>\n",
       "      <th>InfluenceDeptTech</th>\n",
       "      <th>InfluenceVizTools</th>\n",
       "      <th>InfluenceDatabase</th>\n",
       "      <th>InfluenceCloud</th>\n",
       "      <th>InfluenceConsultants</th>\n",
       "      <th>InfluenceRecruitment</th>\n",
       "      <th>InfluenceCommunication</th>\n",
       "      <th>StackOverflowDescribes</th>\n",
       "      <th>StackOverflowSatisfaction</th>\n",
       "      <th>StackOverflowDevices</th>\n",
       "      <th>StackOverflowFoundAnswer</th>\n",
       "      <th>StackOverflowCopiedCode</th>\n",
       "      <th>StackOverflowJobListing</th>\n",
       "      <th>StackOverflowCompanyPage</th>\n",
       "      <th>StackOverflowJobSearch</th>\n",
       "      <th>StackOverflowNewQuestion</th>\n",
       "      <th>StackOverflowAnswer</th>\n",
       "      <th>StackOverflowMetaChat</th>\n",
       "      <th>StackOverflowAdsRelevant</th>\n",
       "      <th>StackOverflowAdsDistracting</th>\n",
       "      <th>StackOverflowModeration</th>\n",
       "      <th>StackOverflowCommunity</th>\n",
       "      <th>StackOverflowHelpful</th>\n",
       "      <th>StackOverflowBetter</th>\n",
       "      <th>StackOverflowWhatDo</th>\n",
       "      <th>StackOverflowMakeMoney</th>\n",
       "      <th>Gender</th>\n",
       "      <th>HighestEducationParents</th>\n",
       "      <th>Race</th>\n",
       "      <th>SurveyLong</th>\n",
       "      <th>QuestionsInteresting</th>\n",
       "      <th>QuestionsConfusing</th>\n",
       "      <th>InterestedAnswers</th>\n",
       "      <th>Salary</th>\n",
       "      <th>ExpectedSalary</th>\n",
       "    </tr>\n",
       "  </thead>\n",
       "  <tbody>\n",
       "    <tr>\n",
       "      <th>0</th>\n",
       "      <td>1</td>\n",
       "      <td>Student</td>\n",
       "      <td>Yes, both</td>\n",
       "      <td>United States</td>\n",
       "      <td>No</td>\n",
       "      <td>Not employed, and not looking for work</td>\n",
       "      <td>Secondary school</td>\n",
       "      <td>NaN</td>\n",
       "      <td>NaN</td>\n",
       "      <td>NaN</td>\n",
       "      <td>NaN</td>\n",
       "      <td>2 to 3 years</td>\n",
       "      <td>NaN</td>\n",
       "      <td>NaN</td>\n",
       "      <td>NaN</td>\n",
       "      <td>NaN</td>\n",
       "      <td>NaN</td>\n",
       "      <td>NaN</td>\n",
       "      <td>NaN</td>\n",
       "      <td>NaN</td>\n",
       "      <td>NaN</td>\n",
       "      <td>NaN</td>\n",
       "      <td>NaN</td>\n",
       "      <td>NaN</td>\n",
       "      <td>NaN</td>\n",
       "      <td>NaN</td>\n",
       "      <td>NaN</td>\n",
       "      <td>NaN</td>\n",
       "      <td>With a soft \"g,\" like \"jiff\"</td>\n",
       "      <td>Strongly agree</td>\n",
       "      <td>Strongly agree</td>\n",
       "      <td>Agree</td>\n",
       "      <td>Disagree</td>\n",
       "      <td>Strongly agree</td>\n",
       "      <td>Agree</td>\n",
       "      <td>Agree</td>\n",
       "      <td>Disagree</td>\n",
       "      <td>Somewhat agree</td>\n",
       "      <td>Disagree</td>\n",
       "      <td>Strongly agree</td>\n",
       "      <td>Strongly agree</td>\n",
       "      <td>Strongly disagree</td>\n",
       "      <td>Agree</td>\n",
       "      <td>Agree</td>\n",
       "      <td>Disagree</td>\n",
       "      <td>Agree</td>\n",
       "      <td>I'm not actively looking, but I am open to new...</td>\n",
       "      <td>0.0</td>\n",
       "      <td>Not applicable/ never</td>\n",
       "      <td>Very important</td>\n",
       "      <td>Very important</td>\n",
       "      <td>Important</td>\n",
       "      <td>Very important</td>\n",
       "      <td>Very important</td>\n",
       "      <td>Very important</td>\n",
       "      <td>Important</td>\n",
       "      <td>Very important</td>\n",
       "      <td>Very important</td>\n",
       "      <td>Very important</td>\n",
       "      <td>Very important</td>\n",
       "      <td>Very important</td>\n",
       "      <td>Somewhat important</td>\n",
       "      <td>Not very important</td>\n",
       "      <td>Somewhat important</td>\n",
       "      <td>Stock options; Vacation/days off; Remote options</td>\n",
       "      <td>Yes</td>\n",
       "      <td>Other</td>\n",
       "      <td>NaN</td>\n",
       "      <td>NaN</td>\n",
       "      <td>Important</td>\n",
       "      <td>Important</td>\n",
       "      <td>Important</td>\n",
       "      <td>Somewhat important</td>\n",
       "      <td>Important</td>\n",
       "      <td>Not very important</td>\n",
       "      <td>Not very important</td>\n",
       "      <td>Not at all important</td>\n",
       "      <td>Somewhat important</td>\n",
       "      <td>Very important</td>\n",
       "      <td>NaN</td>\n",
       "      <td>NaN</td>\n",
       "      <td>Tabs</td>\n",
       "      <td>NaN</td>\n",
       "      <td>Online course; Open source contributions</td>\n",
       "      <td>NaN</td>\n",
       "      <td>NaN</td>\n",
       "      <td>NaN</td>\n",
       "      <td>6:00 AM</td>\n",
       "      <td>Swift</td>\n",
       "      <td>Swift</td>\n",
       "      <td>NaN</td>\n",
       "      <td>NaN</td>\n",
       "      <td>NaN</td>\n",
       "      <td>NaN</td>\n",
       "      <td>iOS</td>\n",
       "      <td>iOS</td>\n",
       "      <td>Atom; Xcode</td>\n",
       "      <td>Turn on some music</td>\n",
       "      <td>NaN</td>\n",
       "      <td>NaN</td>\n",
       "      <td>NaN</td>\n",
       "      <td>NaN</td>\n",
       "      <td>NaN</td>\n",
       "      <td>NaN</td>\n",
       "      <td>NaN</td>\n",
       "      <td>NaN</td>\n",
       "      <td>NaN</td>\n",
       "      <td>NaN</td>\n",
       "      <td>NaN</td>\n",
       "      <td>Somewhat satisfied</td>\n",
       "      <td>Not very satisfied</td>\n",
       "      <td>Not at all satisfied</td>\n",
       "      <td>Very satisfied</td>\n",
       "      <td>Satisfied</td>\n",
       "      <td>Not very satisfied</td>\n",
       "      <td>NaN</td>\n",
       "      <td>NaN</td>\n",
       "      <td>NaN</td>\n",
       "      <td>NaN</td>\n",
       "      <td>NaN</td>\n",
       "      <td>NaN</td>\n",
       "      <td>NaN</td>\n",
       "      <td>NaN</td>\n",
       "      <td>NaN</td>\n",
       "      <td>NaN</td>\n",
       "      <td>NaN</td>\n",
       "      <td>I have created a CV or Developer Story on Stac...</td>\n",
       "      <td>9.0</td>\n",
       "      <td>Desktop; iOS app</td>\n",
       "      <td>At least once each week</td>\n",
       "      <td>Haven't done at all</td>\n",
       "      <td>Once or twice</td>\n",
       "      <td>Haven't done at all</td>\n",
       "      <td>Haven't done at all</td>\n",
       "      <td>Several times</td>\n",
       "      <td>Several times</td>\n",
       "      <td>Once or twice</td>\n",
       "      <td>Somewhat agree</td>\n",
       "      <td>Strongly disagree</td>\n",
       "      <td>Strongly disagree</td>\n",
       "      <td>Strongly agree</td>\n",
       "      <td>Agree</td>\n",
       "      <td>Strongly agree</td>\n",
       "      <td>Strongly agree</td>\n",
       "      <td>Strongly disagree</td>\n",
       "      <td>Male</td>\n",
       "      <td>High school</td>\n",
       "      <td>White or of European descent</td>\n",
       "      <td>Strongly disagree</td>\n",
       "      <td>Strongly agree</td>\n",
       "      <td>Disagree</td>\n",
       "      <td>Strongly agree</td>\n",
       "      <td>NaN</td>\n",
       "      <td>NaN</td>\n",
       "    </tr>\n",
       "    <tr>\n",
       "      <th>1</th>\n",
       "      <td>2</td>\n",
       "      <td>Student</td>\n",
       "      <td>Yes, both</td>\n",
       "      <td>United Kingdom</td>\n",
       "      <td>Yes, full-time</td>\n",
       "      <td>Employed part-time</td>\n",
       "      <td>Some college/university study without earning ...</td>\n",
       "      <td>Computer science or software engineering</td>\n",
       "      <td>More than half, but not all, the time</td>\n",
       "      <td>20 to 99 employees</td>\n",
       "      <td>Privately-held limited company, not in startup...</td>\n",
       "      <td>9 to 10 years</td>\n",
       "      <td>NaN</td>\n",
       "      <td>NaN</td>\n",
       "      <td>NaN</td>\n",
       "      <td>NaN</td>\n",
       "      <td>NaN</td>\n",
       "      <td>NaN</td>\n",
       "      <td>NaN</td>\n",
       "      <td>NaN</td>\n",
       "      <td>NaN</td>\n",
       "      <td>NaN</td>\n",
       "      <td>NaN</td>\n",
       "      <td>NaN</td>\n",
       "      <td>NaN</td>\n",
       "      <td>NaN</td>\n",
       "      <td>NaN</td>\n",
       "      <td>NaN</td>\n",
       "      <td>With a hard \"g,\" like \"gift\"</td>\n",
       "      <td>NaN</td>\n",
       "      <td>NaN</td>\n",
       "      <td>NaN</td>\n",
       "      <td>NaN</td>\n",
       "      <td>NaN</td>\n",
       "      <td>NaN</td>\n",
       "      <td>NaN</td>\n",
       "      <td>NaN</td>\n",
       "      <td>NaN</td>\n",
       "      <td>NaN</td>\n",
       "      <td>NaN</td>\n",
       "      <td>NaN</td>\n",
       "      <td>NaN</td>\n",
       "      <td>NaN</td>\n",
       "      <td>NaN</td>\n",
       "      <td>NaN</td>\n",
       "      <td>NaN</td>\n",
       "      <td>NaN</td>\n",
       "      <td>NaN</td>\n",
       "      <td>NaN</td>\n",
       "      <td>NaN</td>\n",
       "      <td>NaN</td>\n",
       "      <td>NaN</td>\n",
       "      <td>NaN</td>\n",
       "      <td>NaN</td>\n",
       "      <td>NaN</td>\n",
       "      <td>NaN</td>\n",
       "      <td>NaN</td>\n",
       "      <td>NaN</td>\n",
       "      <td>NaN</td>\n",
       "      <td>NaN</td>\n",
       "      <td>NaN</td>\n",
       "      <td>NaN</td>\n",
       "      <td>NaN</td>\n",
       "      <td>NaN</td>\n",
       "      <td>NaN</td>\n",
       "      <td>No</td>\n",
       "      <td>Other</td>\n",
       "      <td>NaN</td>\n",
       "      <td>Some other way</td>\n",
       "      <td>Important</td>\n",
       "      <td>Important</td>\n",
       "      <td>Important</td>\n",
       "      <td>Important</td>\n",
       "      <td>Somewhat important</td>\n",
       "      <td>Somewhat important</td>\n",
       "      <td>Not very important</td>\n",
       "      <td>Somewhat important</td>\n",
       "      <td>Not very important</td>\n",
       "      <td>Very important</td>\n",
       "      <td>British pounds sterling (£)</td>\n",
       "      <td>NaN</td>\n",
       "      <td>Spaces</td>\n",
       "      <td>NaN</td>\n",
       "      <td>Online course; Self-taught; Hackathon; Open so...</td>\n",
       "      <td>Official documentation; Stack Overflow Q&amp;A; Other</td>\n",
       "      <td>NaN</td>\n",
       "      <td>NaN</td>\n",
       "      <td>10:00 AM</td>\n",
       "      <td>JavaScript; Python; Ruby; SQL</td>\n",
       "      <td>Java; Python; Ruby; SQL</td>\n",
       "      <td>.NET Core</td>\n",
       "      <td>.NET Core</td>\n",
       "      <td>MySQL; SQLite</td>\n",
       "      <td>MySQL; SQLite</td>\n",
       "      <td>Amazon Web Services (AWS)</td>\n",
       "      <td>Linux Desktop; Raspberry Pi; Amazon Web Servic...</td>\n",
       "      <td>Atom; Notepad++; Vim; PyCharm; RubyMine; Visua...</td>\n",
       "      <td>Put on some ambient sounds (e.g. whale songs, ...</td>\n",
       "      <td>NaN</td>\n",
       "      <td>Git</td>\n",
       "      <td>Multiple times a day</td>\n",
       "      <td>Agree</td>\n",
       "      <td>Disagree</td>\n",
       "      <td>Strongly disagree</td>\n",
       "      <td>Agree</td>\n",
       "      <td>Somewhat agree</td>\n",
       "      <td>Disagree</td>\n",
       "      <td>Strongly disagree</td>\n",
       "      <td>Customer satisfaction; On time/in budget; Peer...</td>\n",
       "      <td>Not very satisfied</td>\n",
       "      <td>Satisfied</td>\n",
       "      <td>Satisfied</td>\n",
       "      <td>Satisfied</td>\n",
       "      <td>Somewhat satisfied</td>\n",
       "      <td>Satisfied</td>\n",
       "      <td>No influence at all</td>\n",
       "      <td>No influence at all</td>\n",
       "      <td>No influence at all</td>\n",
       "      <td>No influence at all</td>\n",
       "      <td>No influence at all</td>\n",
       "      <td>No influence at all</td>\n",
       "      <td>No influence at all</td>\n",
       "      <td>No influence at all</td>\n",
       "      <td>No influence at all</td>\n",
       "      <td>No influence at all</td>\n",
       "      <td>No influence at all</td>\n",
       "      <td>I have created a CV or Developer Story on Stac...</td>\n",
       "      <td>8.0</td>\n",
       "      <td>Desktop; iOS browser; iOS app; Android browser...</td>\n",
       "      <td>Several times</td>\n",
       "      <td>Several times</td>\n",
       "      <td>Once or twice</td>\n",
       "      <td>Once or twice</td>\n",
       "      <td>Once or twice</td>\n",
       "      <td>Haven't done at all</td>\n",
       "      <td>Several times</td>\n",
       "      <td>At least once each week</td>\n",
       "      <td>Disagree</td>\n",
       "      <td>Strongly disagree</td>\n",
       "      <td>Strongly disagree</td>\n",
       "      <td>Strongly agree</td>\n",
       "      <td>Agree</td>\n",
       "      <td>Strongly agree</td>\n",
       "      <td>Strongly agree</td>\n",
       "      <td>Strongly disagree</td>\n",
       "      <td>Male</td>\n",
       "      <td>A master's degree</td>\n",
       "      <td>White or of European descent</td>\n",
       "      <td>Somewhat agree</td>\n",
       "      <td>Somewhat agree</td>\n",
       "      <td>Disagree</td>\n",
       "      <td>Strongly agree</td>\n",
       "      <td>NaN</td>\n",
       "      <td>37500.0</td>\n",
       "    </tr>\n",
       "  </tbody>\n",
       "</table>\n",
       "</div>"
      ],
      "text/plain": [
       "   Respondent Professional ProgramHobby         Country      University  \\\n",
       "0           1      Student    Yes, both   United States              No   \n",
       "1           2      Student    Yes, both  United Kingdom  Yes, full-time   \n",
       "\n",
       "                         EmploymentStatus  \\\n",
       "0  Not employed, and not looking for work   \n",
       "1                      Employed part-time   \n",
       "\n",
       "                                     FormalEducation  \\\n",
       "0                                   Secondary school   \n",
       "1  Some college/university study without earning ...   \n",
       "\n",
       "                             MajorUndergrad  \\\n",
       "0                                       NaN   \n",
       "1  Computer science or software engineering   \n",
       "\n",
       "                              HomeRemote         CompanySize  \\\n",
       "0                                    NaN                 NaN   \n",
       "1  More than half, but not all, the time  20 to 99 employees   \n",
       "\n",
       "                                         CompanyType   YearsProgram  \\\n",
       "0                                                NaN   2 to 3 years   \n",
       "1  Privately-held limited company, not in startup...  9 to 10 years   \n",
       "\n",
       "  YearsCodedJob YearsCodedJobPast DeveloperType WebDeveloperType  \\\n",
       "0           NaN               NaN           NaN              NaN   \n",
       "1           NaN               NaN           NaN              NaN   \n",
       "\n",
       "  MobileDeveloperType NonDeveloperType  CareerSatisfaction  JobSatisfaction  \\\n",
       "0                 NaN              NaN                 NaN              NaN   \n",
       "1                 NaN              NaN                 NaN              NaN   \n",
       "\n",
       "  ExCoderReturn ExCoderNotForMe ExCoderBalance ExCoder10Years ExCoderBelonged  \\\n",
       "0           NaN             NaN            NaN            NaN             NaN   \n",
       "1           NaN             NaN            NaN            NaN             NaN   \n",
       "\n",
       "  ExCoderSkills ExCoderWillNotCode ExCoderActive  \\\n",
       "0           NaN                NaN           NaN   \n",
       "1           NaN                NaN           NaN   \n",
       "\n",
       "                   PronounceGIF  ProblemSolving  BuildingThings  \\\n",
       "0  With a soft \"g,\" like \"jiff\"  Strongly agree  Strongly agree   \n",
       "1  With a hard \"g,\" like \"gift\"             NaN             NaN   \n",
       "\n",
       "  LearningNewTech BoringDetails     JobSecurity DiversityImportant AnnoyingUI  \\\n",
       "0           Agree      Disagree  Strongly agree              Agree      Agree   \n",
       "1             NaN           NaN             NaN                NaN        NaN   \n",
       "\n",
       "  FriendsDevelopers   RightWrongWay UnderstandComputers     SeriousWork  \\\n",
       "0          Disagree  Somewhat agree            Disagree  Strongly agree   \n",
       "1               NaN             NaN                 NaN             NaN   \n",
       "\n",
       "  InvestTimeTools        WorkPayCare KinshipDevelopers ChallengeMyself  \\\n",
       "0  Strongly agree  Strongly disagree             Agree           Agree   \n",
       "1             NaN                NaN               NaN             NaN   \n",
       "\n",
       "  CompetePeers ChangeWorld                                   JobSeekingStatus  \\\n",
       "0     Disagree       Agree  I'm not actively looking, but I am open to new...   \n",
       "1          NaN         NaN                                                NaN   \n",
       "\n",
       "   HoursPerWeek             LastNewJob AssessJobIndustry   AssessJobRole  \\\n",
       "0           0.0  Not applicable/ never    Very important  Very important   \n",
       "1           NaN                    NaN               NaN             NaN   \n",
       "\n",
       "  AssessJobExp   AssessJobDept   AssessJobTech AssessJobProjects  \\\n",
       "0    Important  Very important  Very important    Very important   \n",
       "1          NaN             NaN             NaN               NaN   \n",
       "\n",
       "  AssessJobCompensation AssessJobOffice AssessJobCommute AssessJobRemote  \\\n",
       "0             Important  Very important   Very important  Very important   \n",
       "1                   NaN             NaN              NaN             NaN   \n",
       "\n",
       "  AssessJobLeaders AssessJobProfDevel  AssessJobDiversity    AssessJobProduct  \\\n",
       "0   Very important     Very important  Somewhat important  Not very important   \n",
       "1              NaN                NaN                 NaN                 NaN   \n",
       "\n",
       "    AssessJobFinances                                 ImportantBenefits  \\\n",
       "0  Somewhat important  Stock options; Vacation/days off; Remote options   \n",
       "1                 NaN                                               NaN   \n",
       "\n",
       "  ClickyKeys JobProfile ResumePrompted   LearnedHiring  \\\n",
       "0        Yes      Other            NaN             NaN   \n",
       "1         No      Other            NaN  Some other way   \n",
       "\n",
       "  ImportantHiringAlgorithms ImportantHiringTechExp  \\\n",
       "0                 Important              Important   \n",
       "1                 Important              Important   \n",
       "\n",
       "  ImportantHiringCommunication ImportantHiringOpenSource ImportantHiringPMExp  \\\n",
       "0                    Important        Somewhat important            Important   \n",
       "1                    Important                 Important   Somewhat important   \n",
       "\n",
       "  ImportantHiringCompanies ImportantHiringTitles ImportantHiringEducation  \\\n",
       "0       Not very important    Not very important     Not at all important   \n",
       "1       Somewhat important    Not very important       Somewhat important   \n",
       "\n",
       "   ImportantHiringRep ImportantHiringGettingThingsDone  \\\n",
       "0  Somewhat important                   Very important   \n",
       "1  Not very important                   Very important   \n",
       "\n",
       "                      Currency Overpaid TabsSpaces EducationImportant  \\\n",
       "0                          NaN      NaN       Tabs                NaN   \n",
       "1  British pounds sterling (£)      NaN     Spaces                NaN   \n",
       "\n",
       "                                      EducationTypes  \\\n",
       "0           Online course; Open source contributions   \n",
       "1  Online course; Self-taught; Hackathon; Open so...   \n",
       "\n",
       "                                     SelfTaughtTypes TimeAfterBootcamp  \\\n",
       "0                                                NaN               NaN   \n",
       "1  Official documentation; Stack Overflow Q&A; Other               NaN   \n",
       "\n",
       "  CousinEducation WorkStart             HaveWorkedLanguage  \\\n",
       "0             NaN   6:00 AM                          Swift   \n",
       "1             NaN  10:00 AM  JavaScript; Python; Ruby; SQL   \n",
       "\n",
       "          WantWorkLanguage HaveWorkedFramework WantWorkFramework  \\\n",
       "0                    Swift                 NaN               NaN   \n",
       "1  Java; Python; Ruby; SQL           .NET Core         .NET Core   \n",
       "\n",
       "  HaveWorkedDatabase WantWorkDatabase         HaveWorkedPlatform  \\\n",
       "0                NaN              NaN                        iOS   \n",
       "1      MySQL; SQLite    MySQL; SQLite  Amazon Web Services (AWS)   \n",
       "\n",
       "                                    WantWorkPlatform  \\\n",
       "0                                                iOS   \n",
       "1  Linux Desktop; Raspberry Pi; Amazon Web Servic...   \n",
       "\n",
       "                                                 IDE  \\\n",
       "0                                        Atom; Xcode   \n",
       "1  Atom; Notepad++; Vim; PyCharm; RubyMine; Visua...   \n",
       "\n",
       "                                 AuditoryEnvironment Methodology  \\\n",
       "0                                 Turn on some music         NaN   \n",
       "1  Put on some ambient sounds (e.g. whale songs, ...         NaN   \n",
       "\n",
       "  VersionControl           CheckInCode ShipIt OtherPeoplesCode  \\\n",
       "0            NaN                   NaN    NaN              NaN   \n",
       "1            Git  Multiple times a day  Agree         Disagree   \n",
       "\n",
       "   ProjectManagement EnjoyDebugging       InTheZone DifficultCommunication  \\\n",
       "0                NaN            NaN             NaN                    NaN   \n",
       "1  Strongly disagree          Agree  Somewhat agree               Disagree   \n",
       "\n",
       "   CollaborateRemote                                       MetricAssess  \\\n",
       "0                NaN                                                NaN   \n",
       "1  Strongly disagree  Customer satisfaction; On time/in budget; Peer...   \n",
       "\n",
       "  EquipmentSatisfiedMonitors EquipmentSatisfiedCPU EquipmentSatisfiedRAM  \\\n",
       "0         Somewhat satisfied    Not very satisfied  Not at all satisfied   \n",
       "1         Not very satisfied             Satisfied             Satisfied   \n",
       "\n",
       "  EquipmentSatisfiedStorage EquipmentSatisfiedRW   InfluenceInternet  \\\n",
       "0            Very satisfied            Satisfied  Not very satisfied   \n",
       "1                 Satisfied   Somewhat satisfied           Satisfied   \n",
       "\n",
       "  InfluenceWorkstation    InfluenceHardware     InfluenceServers  \\\n",
       "0                  NaN                  NaN                  NaN   \n",
       "1  No influence at all  No influence at all  No influence at all   \n",
       "\n",
       "    InfluenceTechStack    InfluenceDeptTech    InfluenceVizTools  \\\n",
       "0                  NaN                  NaN                  NaN   \n",
       "1  No influence at all  No influence at all  No influence at all   \n",
       "\n",
       "     InfluenceDatabase       InfluenceCloud InfluenceConsultants  \\\n",
       "0                  NaN                  NaN                  NaN   \n",
       "1  No influence at all  No influence at all  No influence at all   \n",
       "\n",
       "  InfluenceRecruitment InfluenceCommunication  \\\n",
       "0                  NaN                    NaN   \n",
       "1  No influence at all    No influence at all   \n",
       "\n",
       "                              StackOverflowDescribes  \\\n",
       "0  I have created a CV or Developer Story on Stac...   \n",
       "1  I have created a CV or Developer Story on Stac...   \n",
       "\n",
       "   StackOverflowSatisfaction  \\\n",
       "0                        9.0   \n",
       "1                        8.0   \n",
       "\n",
       "                                StackOverflowDevices StackOverflowFoundAnswer  \\\n",
       "0                                   Desktop; iOS app  At least once each week   \n",
       "1  Desktop; iOS browser; iOS app; Android browser...            Several times   \n",
       "\n",
       "  StackOverflowCopiedCode StackOverflowJobListing StackOverflowCompanyPage  \\\n",
       "0     Haven't done at all           Once or twice      Haven't done at all   \n",
       "1           Several times           Once or twice            Once or twice   \n",
       "\n",
       "  StackOverflowJobSearch StackOverflowNewQuestion StackOverflowAnswer  \\\n",
       "0    Haven't done at all            Several times       Several times   \n",
       "1          Once or twice      Haven't done at all       Several times   \n",
       "\n",
       "     StackOverflowMetaChat StackOverflowAdsRelevant  \\\n",
       "0            Once or twice           Somewhat agree   \n",
       "1  At least once each week                 Disagree   \n",
       "\n",
       "  StackOverflowAdsDistracting StackOverflowModeration StackOverflowCommunity  \\\n",
       "0           Strongly disagree       Strongly disagree         Strongly agree   \n",
       "1           Strongly disagree       Strongly disagree         Strongly agree   \n",
       "\n",
       "  StackOverflowHelpful StackOverflowBetter StackOverflowWhatDo  \\\n",
       "0                Agree      Strongly agree      Strongly agree   \n",
       "1                Agree      Strongly agree      Strongly agree   \n",
       "\n",
       "  StackOverflowMakeMoney Gender HighestEducationParents  \\\n",
       "0      Strongly disagree   Male             High school   \n",
       "1      Strongly disagree   Male       A master's degree   \n",
       "\n",
       "                           Race         SurveyLong QuestionsInteresting  \\\n",
       "0  White or of European descent  Strongly disagree       Strongly agree   \n",
       "1  White or of European descent     Somewhat agree       Somewhat agree   \n",
       "\n",
       "  QuestionsConfusing InterestedAnswers  Salary  ExpectedSalary  \n",
       "0           Disagree    Strongly agree     NaN             NaN  \n",
       "1           Disagree    Strongly agree     NaN         37500.0  "
      ]
     },
     "execution_count": 31,
     "metadata": {},
     "output_type": "execute_result"
    }
   ],
   "source": [
    "df.head(2)"
   ]
  },
  {
   "cell_type": "markdown",
   "metadata": {},
   "source": [
    "## Question 1 : What is the Employment status of the participants and how are the job satisfaction and carrier satisfaction based on top 2 countries participated in survey  "
   ]
  },
  {
   "cell_type": "markdown",
   "metadata": {},
   "source": [
    "## Data Prepration \n",
    "\n",
    "Data prepation is done by selecting the desired fields and rows which shows if the professional developer has participated in the survey.\n",
    "\n",
    "For this scenario we will select Country, EmploymentStatus, CareerSatisfaction, JobSatisfaction into a new dataframe."
   ]
  },
  {
   "cell_type": "code",
   "execution_count": 32,
   "metadata": {},
   "outputs": [],
   "source": [
    "data_1 = df[['Country','EmploymentStatus','CareerSatisfaction','JobSatisfaction']]"
   ]
  },
  {
   "cell_type": "code",
   "execution_count": 33,
   "metadata": {},
   "outputs": [
    {
     "data": {
      "text/html": [
       "<div>\n",
       "<style scoped>\n",
       "    .dataframe tbody tr th:only-of-type {\n",
       "        vertical-align: middle;\n",
       "    }\n",
       "\n",
       "    .dataframe tbody tr th {\n",
       "        vertical-align: top;\n",
       "    }\n",
       "\n",
       "    .dataframe thead th {\n",
       "        text-align: right;\n",
       "    }\n",
       "</style>\n",
       "<table border=\"1\" class=\"dataframe\">\n",
       "  <thead>\n",
       "    <tr style=\"text-align: right;\">\n",
       "      <th></th>\n",
       "      <th>Country</th>\n",
       "      <th>EmploymentStatus</th>\n",
       "      <th>CareerSatisfaction</th>\n",
       "      <th>JobSatisfaction</th>\n",
       "    </tr>\n",
       "  </thead>\n",
       "  <tbody>\n",
       "    <tr>\n",
       "      <th>0</th>\n",
       "      <td>United States</td>\n",
       "      <td>Not employed, and not looking for work</td>\n",
       "      <td>NaN</td>\n",
       "      <td>NaN</td>\n",
       "    </tr>\n",
       "    <tr>\n",
       "      <th>1</th>\n",
       "      <td>United Kingdom</td>\n",
       "      <td>Employed part-time</td>\n",
       "      <td>NaN</td>\n",
       "      <td>NaN</td>\n",
       "    </tr>\n",
       "    <tr>\n",
       "      <th>2</th>\n",
       "      <td>United Kingdom</td>\n",
       "      <td>Employed full-time</td>\n",
       "      <td>8.0</td>\n",
       "      <td>9.0</td>\n",
       "    </tr>\n",
       "    <tr>\n",
       "      <th>3</th>\n",
       "      <td>United States</td>\n",
       "      <td>Employed full-time</td>\n",
       "      <td>6.0</td>\n",
       "      <td>3.0</td>\n",
       "    </tr>\n",
       "    <tr>\n",
       "      <th>4</th>\n",
       "      <td>Switzerland</td>\n",
       "      <td>Employed full-time</td>\n",
       "      <td>6.0</td>\n",
       "      <td>8.0</td>\n",
       "    </tr>\n",
       "  </tbody>\n",
       "</table>\n",
       "</div>"
      ],
      "text/plain": [
       "          Country                        EmploymentStatus  CareerSatisfaction  \\\n",
       "0   United States  Not employed, and not looking for work                 NaN   \n",
       "1  United Kingdom                      Employed part-time                 NaN   \n",
       "2  United Kingdom                      Employed full-time                 8.0   \n",
       "3   United States                      Employed full-time                 6.0   \n",
       "4     Switzerland                      Employed full-time                 6.0   \n",
       "\n",
       "   JobSatisfaction  \n",
       "0              NaN  \n",
       "1              NaN  \n",
       "2              9.0  \n",
       "3              3.0  \n",
       "4              8.0  "
      ]
     },
     "execution_count": 33,
     "metadata": {},
     "output_type": "execute_result"
    }
   ],
   "source": [
    "data_1.head()"
   ]
  },
  {
   "cell_type": "code",
   "execution_count": 34,
   "metadata": {},
   "outputs": [
    {
     "data": {
      "image/png": "[encoded data removed]",
      "text/plain": [
       "<Figure size 432x288 with 1 Axes>"
      ]
     },
     "metadata": {},
     "output_type": "display_data"
    }
   ],
   "source": [
    "countries = data_1.Country.str.split('; ', expand=True).stack().value_counts()\n",
    "countries.head(5).plot(kind='bar')\n",
    "plt.savefig('Countries')"
   ]
  },
  {
   "cell_type": "markdown",
   "metadata": {},
   "source": [
    "## Top 2 Countries participated in the Survey are \n",
    "* 1) US\n",
    "* 2) India"
   ]
  },
  {
   "cell_type": "markdown",
   "metadata": {},
   "source": [
    "## Data Modelling"
   ]
  },
  {
   "cell_type": "markdown",
   "metadata": {},
   "source": [
    "### a) Employment Status of the participants participated in survey from US and India"
   ]
  },
  {
   "cell_type": "code",
   "execution_count": 35,
   "metadata": {},
   "outputs": [
    {
     "data": {
      "image/png": "[encoded data removed]",
      "text/plain": [
       "<Figure size 432x288 with 1 Axes>"
      ]
     },
     "metadata": {},
     "output_type": "display_data"
    }
   ],
   "source": [
    "df_US = data_1[data_1['Country'] == 'United States']\n",
    "US_1 = df_US['EmploymentStatus'].str.split('; ', expand=True).stack().value_counts()\n",
    "(US_1/(US_1.sum())).plot(kind='bar', label = 'Emp. status')\n",
    "plt.legend()\n",
    "plt.savefig('Employment Status US')"
   ]
  },
  {
   "cell_type": "code",
   "execution_count": 36,
   "metadata": {},
   "outputs": [
    {
     "data": {
      "image/png": "[encoded data removed]",
      "text/plain": [
       "<Figure size 432x288 with 1 Axes>"
      ]
     },
     "metadata": {},
     "output_type": "display_data"
    }
   ],
   "source": [
    "df_IN = data_1[data_1['Country'] == 'India']\n",
    "IN_1 = df_IN['EmploymentStatus'].str.split('; ', expand=True).stack().value_counts()\n",
    "(IN_1/(IN_1.sum())).plot(kind='bar', label = 'Emp. status')\n",
    "plt.legend()\n",
    "plt.savefig('Employment Status IN')"
   ]
  },
  {
   "cell_type": "markdown",
   "metadata": {},
   "source": [
    "## Evaluating the results for Question 1"
   ]
  },
  {
   "cell_type": "markdown",
   "metadata": {},
   "source": [
    "#### From the above plots we can see that the more than 70 % of the participants in both countries are Full time Employed."
   ]
  },
  {
   "cell_type": "markdown",
   "metadata": {},
   "source": [
    "### b) JobSatisfaction of the participants participated in survey from US and India"
   ]
  },
  {
   "cell_type": "code",
   "execution_count": 37,
   "metadata": {},
   "outputs": [
    {
     "data": {
      "image/png": "[encoded data removed]",
      "text/plain": [
       "<Figure size 432x288 with 1 Axes>"
      ]
     },
     "metadata": {},
     "output_type": "display_data"
    }
   ],
   "source": [
    "df.CareerSatisfaction.fillna(0.0)\n",
    "US_2 = df['JobSatisfaction'].value_counts()\n",
    "(US_2/(US_2.sum())).plot(kind='bar',label='Job Sat US')\n",
    "plt.legend()\n",
    "plt.savefig('JobSatisfaction US')"
   ]
  },
  {
   "cell_type": "code",
   "execution_count": 38,
   "metadata": {},
   "outputs": [
    {
     "data": {
      "image/png": "[encoded data removed]",
      "text/plain": [
       "<Figure size 432x288 with 1 Axes>"
      ]
     },
     "metadata": {},
     "output_type": "display_data"
    }
   ],
   "source": [
    "df.CareerSatisfaction.fillna(0.0)\n",
    "IN_2 = df_IN['JobSatisfaction'].value_counts()\n",
    "(IN_2/(IN_2.sum())).plot(kind='bar', label = 'Job Sat IN')\n",
    "plt.legend()\n",
    "plt.savefig('JobSatisfaction IN')"
   ]
  },
  {
   "cell_type": "markdown",
   "metadata": {},
   "source": [
    "#### In US we can see that appr. 75 % of the User participated in survey are having Job Sat above  than 7.0\n",
    "#### In India we can see that appr. 65 % of the User participated in survey are having Job Sat between 5.0 and 8.0"
   ]
  },
  {
   "cell_type": "markdown",
   "metadata": {},
   "source": [
    "### c) Career Satisfaction of the participants participated in survey from US and India"
   ]
  },
  {
   "cell_type": "code",
   "execution_count": 39,
   "metadata": {},
   "outputs": [
    {
     "data": {
      "image/png": "[encoded data removed]",
      "text/plain": [
       "<Figure size 432x288 with 1 Axes>"
      ]
     },
     "metadata": {},
     "output_type": "display_data"
    }
   ],
   "source": [
    "df.CareerSatisfaction.fillna(0.0)\n",
    "US_3 = df['CareerSatisfaction'].value_counts()\n",
    "(US_3/(US_3.sum())).plot(kind='bar',label='Carrier Sat US')\n",
    "plt.legend()\n",
    "plt.savefig('CareerSatisfaction US')"
   ]
  },
  {
   "cell_type": "code",
   "execution_count": 40,
   "metadata": {},
   "outputs": [
    {
     "data": {
      "image/png": "[encoded data removed]",
      "text/plain": [
       "<Figure size 432x288 with 1 Axes>"
      ]
     },
     "metadata": {},
     "output_type": "display_data"
    }
   ],
   "source": [
    "df.CareerSatisfaction.fillna(0.0)\n",
    "IN_2 = df_IN['CareerSatisfaction'].value_counts()\n",
    "(IN_2/(IN_2.sum())).plot(kind='bar', label = 'Carrier Sat IN')\n",
    "plt.legend()\n",
    "plt.savefig('CareerSatisfaction IN')"
   ]
  },
  {
   "cell_type": "markdown",
   "metadata": {},
   "source": []
  },
  {
   "cell_type": "markdown",
   "metadata": {},
   "source": [
    "#### In US we can see that appr. 75 % of the User participated in survey are having Job Sat more than 7.0.\n",
    "\n",
    "#### In India we see that appr. 65 % of the User participated in survey are having Job Sat between 5.0 and 8.0.\n",
    "\n",
    "#### Also Job Sat is highly correlated with Career Sat."
   ]
  },
  {
   "cell_type": "markdown",
   "metadata": {},
   "source": [
    "## Question 2: What are the most common languages, technologies, methodologies and tools used by professionals"
   ]
  },
  {
   "cell_type": "markdown",
   "metadata": {},
   "source": [
    "## Data Prepration"
   ]
  },
  {
   "cell_type": "code",
   "execution_count": 41,
   "metadata": {},
   "outputs": [
    {
     "data": {
      "text/html": [
       "<div>\n",
       "<style scoped>\n",
       "    .dataframe tbody tr th:only-of-type {\n",
       "        vertical-align: middle;\n",
       "    }\n",
       "\n",
       "    .dataframe tbody tr th {\n",
       "        vertical-align: top;\n",
       "    }\n",
       "\n",
       "    .dataframe thead th {\n",
       "        text-align: right;\n",
       "    }\n",
       "</style>\n",
       "<table border=\"1\" class=\"dataframe\">\n",
       "  <thead>\n",
       "    <tr style=\"text-align: right;\">\n",
       "      <th></th>\n",
       "      <th>Professional</th>\n",
       "      <th>HaveWorkedLanguage</th>\n",
       "      <th>HaveWorkedFramework</th>\n",
       "      <th>HaveWorkedDatabase</th>\n",
       "      <th>Methodology</th>\n",
       "    </tr>\n",
       "  </thead>\n",
       "  <tbody>\n",
       "    <tr>\n",
       "      <th>2</th>\n",
       "      <td>Professional developer</td>\n",
       "      <td>Java; PHP; Python</td>\n",
       "      <td>NaN</td>\n",
       "      <td>MySQL</td>\n",
       "      <td>Agile; Lean; Scrum; Extreme; Pair; Kanban</td>\n",
       "    </tr>\n",
       "    <tr>\n",
       "      <th>4</th>\n",
       "      <td>Professional developer</td>\n",
       "      <td>NaN</td>\n",
       "      <td>NaN</td>\n",
       "      <td>NaN</td>\n",
       "      <td>NaN</td>\n",
       "    </tr>\n",
       "    <tr>\n",
       "      <th>7</th>\n",
       "      <td>Professional developer</td>\n",
       "      <td>CoffeeScript; Clojure; Elixir; Erlang; Haskell...</td>\n",
       "      <td>React</td>\n",
       "      <td>Redis; MySQL; PostgreSQL</td>\n",
       "      <td>Agile; Pair; Kanban</td>\n",
       "    </tr>\n",
       "    <tr>\n",
       "      <th>8</th>\n",
       "      <td>Professional developer</td>\n",
       "      <td>C#; JavaScript</td>\n",
       "      <td>AngularJS; Node.js; .NET Core</td>\n",
       "      <td>SQL Server</td>\n",
       "      <td>Agile; Scrum; Pair; Kanban; Domain-driven design</td>\n",
       "    </tr>\n",
       "    <tr>\n",
       "      <th>9</th>\n",
       "      <td>Professional developer</td>\n",
       "      <td>Objective-C; Swift</td>\n",
       "      <td>NaN</td>\n",
       "      <td>PostgreSQL</td>\n",
       "      <td>Agile; Scrum; Pair; Kanban</td>\n",
       "    </tr>\n",
       "  </tbody>\n",
       "</table>\n",
       "</div>"
      ],
      "text/plain": [
       "             Professional                                 HaveWorkedLanguage  \\\n",
       "2  Professional developer                                  Java; PHP; Python   \n",
       "4  Professional developer                                                NaN   \n",
       "7  Professional developer  CoffeeScript; Clojure; Elixir; Erlang; Haskell...   \n",
       "8  Professional developer                                     C#; JavaScript   \n",
       "9  Professional developer                                 Objective-C; Swift   \n",
       "\n",
       "             HaveWorkedFramework        HaveWorkedDatabase  \\\n",
       "2                            NaN                     MySQL   \n",
       "4                            NaN                       NaN   \n",
       "7                          React  Redis; MySQL; PostgreSQL   \n",
       "8  AngularJS; Node.js; .NET Core                SQL Server   \n",
       "9                            NaN                PostgreSQL   \n",
       "\n",
       "                                        Methodology  \n",
       "2         Agile; Lean; Scrum; Extreme; Pair; Kanban  \n",
       "4                                               NaN  \n",
       "7                               Agile; Pair; Kanban  \n",
       "8  Agile; Scrum; Pair; Kanban; Domain-driven design  \n",
       "9                        Agile; Scrum; Pair; Kanban  "
      ]
     },
     "execution_count": 41,
     "metadata": {},
     "output_type": "execute_result"
    }
   ],
   "source": [
    "q1 = df[['Professional', 'HaveWorkedLanguage', 'HaveWorkedFramework', 'HaveWorkedDatabase', 'Methodology']]\n",
    "q1 = q1[q1.Professional == \"Professional developer\"]\n",
    "q1.head()"
   ]
  },
  {
   "cell_type": "markdown",
   "metadata": {},
   "source": [
    "## Data Modeling"
   ]
  },
  {
   "cell_type": "markdown",
   "metadata": {},
   "source": [
    "### The most commonly used languages are:"
   ]
  },
  {
   "cell_type": "code",
   "execution_count": 42,
   "metadata": {},
   "outputs": [
    {
     "data": {
      "image/png": "[encoded data removed]",
      "text/plain": [
       "<Figure size 720x720 with 1 Axes>"
      ]
     },
     "metadata": {},
     "output_type": "display_data"
    }
   ],
   "source": [
    "languages = q1['HaveWorkedLanguage'].str.split('; ', expand=True).stack().value_counts()\n",
    "\n",
    "plt.figure(figsize=(10,10))\n",
    "languages.plot(kind=\"bar\")\n",
    "\n",
    "plt.savefig('languages')"
   ]
  },
  {
   "cell_type": "markdown",
   "metadata": {},
   "source": [
    "### The most commonly used frameworks are:"
   ]
  },
  {
   "cell_type": "code",
   "execution_count": 43,
   "metadata": {},
   "outputs": [
    {
     "data": {
      "image/png": "[encoded data removed]",
      "text/plain": [
       "<Figure size 720x720 with 1 Axes>"
      ]
     },
     "metadata": {},
     "output_type": "display_data"
    }
   ],
   "source": [
    "frameworks = q1['HaveWorkedFramework'].str.split('; ', expand=True).stack().value_counts()\n",
    "\n",
    "plt.figure(figsize=(10,10))\n",
    "frameworks.plot(kind=\"bar\")\n",
    "\n",
    "plt.savefig('frameworks')"
   ]
  },
  {
   "cell_type": "markdown",
   "metadata": {},
   "source": [
    "### The most commonly used databases are:"
   ]
  },
  {
   "cell_type": "code",
   "execution_count": 44,
   "metadata": {},
   "outputs": [
    {
     "data": {
      "image/png": "[encoded data removed]",
      "text/plain": [
       "<Figure size 720x720 with 1 Axes>"
      ]
     },
     "metadata": {},
     "output_type": "display_data"
    }
   ],
   "source": [
    "databases = q1['HaveWorkedDatabase'].str.split('; ', expand=True).stack().value_counts()\n",
    "\n",
    "plt.figure(figsize=(10,10))\n",
    "databases.plot(kind=\"bar\")\n",
    "\n",
    "plt.savefig('databases')"
   ]
  },
  {
   "cell_type": "markdown",
   "metadata": {},
   "source": [
    "### The most commonly used methodologies are"
   ]
  },
  {
   "cell_type": "code",
   "execution_count": 45,
   "metadata": {},
   "outputs": [
    {
     "data": {
      "image/png": "[encoded data removed]",
      "text/plain": [
       "<Figure size 720x720 with 1 Axes>"
      ]
     },
     "metadata": {},
     "output_type": "display_data"
    }
   ],
   "source": [
    "methodologies = q1['Methodology'].str.split('; ', expand=True).stack().value_counts()\n",
    "\n",
    "plt.figure(figsize=(10,10))\n",
    "methodologies.plot(kind=\"bar\")\n",
    "\n",
    "plt.savefig('methodologies')"
   ]
  },
  {
   "cell_type": "markdown",
   "metadata": {},
   "source": [
    "## Evaluation of results for Question 2 : "
   ]
  },
  {
   "cell_type": "markdown",
   "metadata": {},
   "source": [
    "#### Top 5 languages used are \n",
    "* a) Java Script, \n",
    "* b) SQL, \n",
    "* c) Java, \n",
    "* d) C#, \n",
    "* e) Python"
   ]
  },
  {
   "cell_type": "markdown",
   "metadata": {},
   "source": [
    "#### Top 5  frameworks used are \n",
    "* a) AngularJS, \n",
    "* b) Node.js, \n",
    "* c) .Net, \n",
    "* d) React, \n",
    "* e) Cordova"
   ]
  },
  {
   "cell_type": "markdown",
   "metadata": {},
   "source": [
    "#### Top5  databases used are \n",
    "* a) MY SQL, \n",
    "* b) SQL Server, \n",
    "* c) PostgreSQL, \n",
    "* d) SQLite, \n",
    "* e) MongoDB"
   ]
  },
  {
   "cell_type": "markdown",
   "metadata": {},
   "source": [
    "#### Top5  Methodologies used are \n",
    "* a) Agile, \n",
    "* b) Scrum, \n",
    "* c) Pair, \n",
    "* d) Kanban, \n",
    "* e) Waterfall"
   ]
  },
  {
   "cell_type": "markdown",
   "metadata": {},
   "source": [
    "## Question 3: Which programming language has the highest job satisfaction"
   ]
  },
  {
   "cell_type": "markdown",
   "metadata": {},
   "source": [
    "Lets prepare a data necessary to answer the above question. We will eliminate the NAN and rows"
   ]
  },
  {
   "cell_type": "code",
   "execution_count": 18,
   "metadata": {},
   "outputs": [
    {
     "data": {
      "text/html": [
       "<div>\n",
       "<style scoped>\n",
       "    .dataframe tbody tr th:only-of-type {\n",
       "        vertical-align: middle;\n",
       "    }\n",
       "\n",
       "    .dataframe tbody tr th {\n",
       "        vertical-align: top;\n",
       "    }\n",
       "\n",
       "    .dataframe thead th {\n",
       "        text-align: right;\n",
       "    }\n",
       "</style>\n",
       "<table border=\"1\" class=\"dataframe\">\n",
       "  <thead>\n",
       "    <tr style=\"text-align: right;\">\n",
       "      <th></th>\n",
       "      <th>HaveWorkedLanguage</th>\n",
       "      <th>JobSatisfaction</th>\n",
       "    </tr>\n",
       "  </thead>\n",
       "  <tbody>\n",
       "    <tr>\n",
       "      <th>2</th>\n",
       "      <td>Java; PHP; Python</td>\n",
       "      <td>9.0</td>\n",
       "    </tr>\n",
       "    <tr>\n",
       "      <th>7</th>\n",
       "      <td>CoffeeScript; Clojure; Elixir; Erlang; Haskell...</td>\n",
       "      <td>7.0</td>\n",
       "    </tr>\n",
       "    <tr>\n",
       "      <th>8</th>\n",
       "      <td>C#; JavaScript</td>\n",
       "      <td>6.0</td>\n",
       "    </tr>\n",
       "    <tr>\n",
       "      <th>9</th>\n",
       "      <td>Objective-C; Swift</td>\n",
       "      <td>8.0</td>\n",
       "    </tr>\n",
       "    <tr>\n",
       "      <th>13</th>\n",
       "      <td>Java; JavaScript; Ruby; SQL</td>\n",
       "      <td>6.0</td>\n",
       "    </tr>\n",
       "  </tbody>\n",
       "</table>\n",
       "</div>"
      ],
      "text/plain": [
       "                                   HaveWorkedLanguage  JobSatisfaction\n",
       "2                                   Java; PHP; Python              9.0\n",
       "7   CoffeeScript; Clojure; Elixir; Erlang; Haskell...              7.0\n",
       "8                                      C#; JavaScript              6.0\n",
       "9                                  Objective-C; Swift              8.0\n",
       "13                        Java; JavaScript; Ruby; SQL              6.0"
      ]
     },
     "execution_count": 18,
     "metadata": {},
     "output_type": "execute_result"
    }
   ],
   "source": [
    "q3 = df[['Professional', 'HaveWorkedLanguage', 'JobSatisfaction']]\n",
    "q3 = q3[q3.Professional == \"Professional developer\"]\n",
    "q3 = q3.drop('Professional', 1)\n",
    "q3 = q3.dropna(subset=['JobSatisfaction', 'HaveWorkedLanguage'], axis=0)\n",
    "q3.head()"
   ]
  },
  {
   "cell_type": "code",
   "execution_count": 19,
   "metadata": {},
   "outputs": [],
   "source": [
    "def split_column(column_to_split, delimeter, column_to_store, df):    \n",
    "    split_col = pd.DataFrame(columns = [column_to_split, column_to_store])\n",
    "    for index, row in df.iterrows():\n",
    "        columns = row[column_to_split].split(delimeter)\n",
    "        for c in columns:\n",
    "            split_col.loc[len(split_col)] = [c, row[column_to_store]]\n",
    "    return split_col"
   ]
  },
  {
   "cell_type": "code",
   "execution_count": 20,
   "metadata": {},
   "outputs": [
    {
     "data": {
      "text/plain": [
       "HaveWorkedLanguage\n",
       "Visual Basic 6    6.899110\n",
       "VB.NET            6.901878\n",
       "Common Lisp       6.907143\n",
       "Haskell           6.918768\n",
       "Hack              6.969231\n",
       "Java              6.984875\n",
       "Matlab            6.988204\n",
       "SQL               7.000276\n",
       "Rust              7.003745\n",
       "Julia             7.015152\n",
       "C#                7.019202\n",
       "PHP               7.023412\n",
       "F#                7.030641\n",
       "C                 7.037010\n",
       "R                 7.043317\n",
       "Dart              7.048544\n",
       "Clojure           7.049020\n",
       "JavaScript        7.062319\n",
       "VBA               7.063559\n",
       "C++               7.072574\n",
       "Assembly          7.083074\n",
       "Erlang            7.086538\n",
       "Groovy            7.102786\n",
       "Perl              7.104779\n",
       "Python            7.114650\n",
       "Lua               7.159933\n",
       "Go                7.164094\n",
       "Scala             7.192627\n",
       "Ruby              7.216344\n",
       "Swift             7.217698\n",
       "TypeScript        7.229228\n",
       "CoffeeScript      7.251020\n",
       "Elixir            7.307190\n",
       "Objective-C       7.317123\n",
       "Smalltalk         7.461864\n",
       "Name: JobSatisfaction, dtype: float64"
      ]
     },
     "execution_count": 20,
     "metadata": {},
     "output_type": "execute_result"
    }
   ],
   "source": [
    "split_languages_q3 = split_column(\"HaveWorkedLanguage\", \"; \", \"JobSatisfaction\", q3)\n",
    "q3_answer = split_languages_q3.groupby(['HaveWorkedLanguage']).mean()['JobSatisfaction'].sort_values()\n",
    "q3_answer.head(50)"
   ]
  },
  {
   "cell_type": "code",
   "execution_count": 21,
   "metadata": {},
   "outputs": [
    {
     "data": {
      "image/png": "[encoded data removed]",
      "text/plain": [
       "<Figure size 720x720 with 1 Axes>"
      ]
     },
     "metadata": {},
     "output_type": "display_data"
    }
   ],
   "source": [
    "plt.figure(figsize=(10,10))\n",
    "q3_answer.plot(kind = 'bar')\n",
    "plt.savefig('q3')"
   ]
  },
  {
   "cell_type": "markdown",
   "metadata": {},
   "source": [
    "## Evaluating the results for Question 3 above:\n",
    "Those with more specialised skill sets feel that they are more valuable and therefore are more satisfied with their jobs."
   ]
  },
  {
   "cell_type": "code",
   "execution_count": null,
   "metadata": {},
   "outputs": [],
   "source": []
  }
 ],
 "metadata": {
  "kernelspec": {
   "display_name": "Python 3",
   "language": "python",
   "name": "python3"
  },
  "language_info": {
   "codemirror_mode": {
    "name": "ipython",
    "version": 3
   },
   "file_extension": ".py",
   "mimetype": "text/x-python",
   "name": "python",
   "nbconvert_exporter": "python",
   "pygments_lexer": "ipython3",
   "version": "3.6.5"
  }
 },
 "nbformat": 4,
 "nbformat_minor": 2
}
